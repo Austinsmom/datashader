{
 "cells": [
  {
   "cell_type": "markdown",
   "metadata": {},
   "source": [
    "# Plotting graphs in Datashader with edge bundling\n",
    "\n",
    "[Datashader](http://datashader.readthedocs.org) provides general-purpose support for plotting very large collections of points, line segments, and gridded data, using a convenient API provided by [HoloViews](http://holoviews.org) and  an interactive user interface provided by [Bokeh](http://bokeh.pydata.org). While these facilities can be used to plot any sort of data, graph data (networks of nodes connected by edges) presents some special challenges.  At a minimum, the nodes and edges must be mapped into specific locations and shapes in a 2D plane before they can be visualized, which is an [open-ended problem involving a complex set of tradeoffs and complications](http://www.hiveplot.com).\n",
    "\n",
    "Here, we will assume that the nodes have already been laid out in 2D, whether because they have such structure inherently (such as connections between geographic locations), or an arbitrary random or geometric layout has been selected manually, or the layout has been determined by an external tool (such as a force-directed algorithm laying out similarly connected nodes in similar locations).\n",
    "\n",
    "First, we'll import the packages we are using and set up some defaults."
   ]
  },
  {
   "cell_type": "code",
   "execution_count": null,
   "metadata": {},
   "outputs": [],
   "source": [
    "import numpy as np\n",
    "import pandas as pd\n",
    "import holoviews as hv\n",
    "import fastparquet as fp\n",
    "import datashader as ds\n",
    "\n",
    "from colorcet import fire\n",
    "from datashader.bundling import directly_connect_edges, hammer_bundle\n",
    "from datashader.utils import export_image\n",
    "\n",
    "from holoviews.operation.datashader import aggregate, shade, datashade, dynspread\n",
    "from holoviews.operation import decimate\n",
    "\n",
    "from dask.distributed import Client\n",
    "client = Client()\n",
    "\n",
    "hv.notebook_extension('bokeh','matplotlib')\n",
    "\n",
    "decimate.max_samples=20000\n",
    "dynspread.threshold=0.01\n",
    "datashade.cmap=fire[40:]\n",
    "sz = dict(width=150,height=150)\n",
    "\n",
    "%opts RGB [xaxis=None yaxis=None show_grid=False bgcolor=\"black\"]"
   ]
  },
  {
   "cell_type": "markdown",
   "metadata": {},
   "source": [
    "# Random graph\n",
    "\n",
    "As a first example, let's generate a random graph, with 5000 points normally distributed around the origin and 10000 random connections between them:"
   ]
  },
  {
   "cell_type": "code",
   "execution_count": null,
   "metadata": {},
   "outputs": [],
   "source": [
    "np.random.seed(0)\n",
    "\n",
    "nodes = hv.Points(pd.DataFrame(np.random.randn(5000, 2), columns=['x', 'y']))\n",
    "nodes.data.tail()"
   ]
  },
  {
   "cell_type": "code",
   "execution_count": null,
   "metadata": {},
   "outputs": [],
   "source": [
    "edges = hv.Curve(pd.DataFrame(np.random.randint(len(nodes.data), size=(10000, 2)),\n",
    "                              columns=['source', 'target']))\n",
    "edges.data.tail()"
   ]
  },
  {
   "cell_type": "markdown",
   "metadata": {},
   "source": [
    "Here you can see that the nodes list is a columnar dataframe with an index value and an (x,y) location for every node.  The edges list is a columnar dataframe listing the index of the source and target in the nodes dataframe.  \n",
    "\n",
    "We can now visualize this data using some graph-specific helper functions in Datashader, with results packaged as HoloViews objects that display using Bokeh:"
   ]
  },
  {
   "cell_type": "code",
   "execution_count": null,
   "metadata": {},
   "outputs": [],
   "source": [
    "%%opts RGB [width=400 height=400]\n",
    "\n",
    "%time direct  = hv.Curve(directly_connect_edges(nodes.data, edges.data))\n",
    "%time bundled = hv.Curve(hammer_bundle(nodes.data, edges.data))\n",
    "\n",
    "(datashade(direct)  * dynspread(datashade(nodes,cmap=[\"cyan\"]),threshold=0.01)).relabel(\"Directly connected\") + \\\n",
    "(datashade(bundled) * dynspread(datashade(nodes,cmap=[\"cyan\"]),threshold=0.01)).relabel(\"Bundled\")"
   ]
  },
  {
   "cell_type": "markdown",
   "metadata": {},
   "source": [
    "In these plots, you can select the Bokeh \"wheel zoom\" from the tool palette and zoom or pan on the plot.  On a static site like anaconda.org the image will be rescaled blockily as you zoom in, not revealing any new data, but with a live server it will be dynamically re-rendered to show more detailed structure each time. Here the nodes are shown as cyan-colored dots, and the connections are lines that show up as dark red for a single line and gradually brighter colors as more lines are overlaid.  \n",
    "\n",
    "The \"Directly Connected\" plot shows a single line segment per edge, which is very quick (scaling in computational complexity with the number of edges) but has so much overlap that it is difficult to see the underlying structure.\n",
    "\n",
    "Conversely, if we render the edges as curves by using an edge bundling algorithm (a variant of [Hurter, Ersoy, & Telea, ECV-2012](http://www.cs.rug.nl/~alext/PAPERS/EuroVis12/kdeeb.pdf)), we can see structure at a local scale.  (Of course, the large-scale structure in this case is random, but this technique magnifies small fluctuations, which in real datasets presumably reflect actual structure of the data.)\n",
    "\n",
    "The specific patterns that develop in the bundling process depend on the bundling parameters, particularly the initial bandwidth over which grouping is done, and the rate of decay of this bandwidth:"
   ]
  },
  {
   "cell_type": "code",
   "execution_count": null,
   "metadata": {},
   "outputs": [],
   "source": [
    "nodes_ds = dynspread(datashade(nodes,cmap=[\"cyan\"]),threshold=0.01)\n",
    "\n",
    "%time bundled         = hv.Curve(hammer_bundle(nodes.data, edges.data))\n",
    "%time bundled_decay04 = hv.Curve(hammer_bundle(nodes.data, edges.data, decay=0.4))\n",
    "%time bundled_decay10 = hv.Curve(hammer_bundle(nodes.data, edges.data, decay=1.0))\n",
    "%time bundled_bw01    = hv.Curve(hammer_bundle(nodes.data, edges.data, initial_bandwidth=0.01))\n",
    "%time bundled_bw30    = hv.Curve(hammer_bundle(nodes.data, edges.data, initial_bandwidth=0.30))"
   ]
  },
  {
   "cell_type": "code",
   "execution_count": null,
   "metadata": {},
   "outputs": [],
   "source": [
    "%%opts RGB [width=250 height=250] {+framewise}\n",
    "\n",
    "((datashade(bundled_bw01,**sz)    * nodes_ds).relabel(\"Bundled with bw=0.01\") + \\\n",
    " (datashade(bundled,**sz)         * nodes_ds).relabel(\"Bundled with bw=0.05\") + \\\n",
    " (datashade(bundled_bw30,**sz)    * nodes_ds).relabel(\"Bundled with bw=0.30\") + \\\n",
    " (datashade(bundled_decay04,**sz) * nodes_ds).relabel(\"Bundled with decay=0.1\") + \\\n",
    " (datashade(bundled,**sz)         * nodes_ds).relabel(\"Bundled with decay=0.7\") + \\\n",
    " (datashade(bundled_decay10,**sz) * nodes_ds).relabel(\"Bundled with decay=1.0\")).cols(3)"
   ]
  },
  {
   "cell_type": "markdown",
   "metadata": {
    "collapsed": true
   },
   "source": [
    "# Other standard graph types using NetworkX\n",
    "\n",
    "The separate [NetworkX](https://networkx.readthedocs.io) package can be used to create a variety of standard [graph structures](https://networkx.readthedocs.io/en/stable/reference/generators.html), so that you can see how bundling works across different graph types.  Here, we lay each of them out in a circular pattern using NetworkX, but note as always that results will differ dramatically depending on the layout, so it is important to choose a good layout first."
   ]
  },
  {
   "cell_type": "code",
   "execution_count": null,
   "metadata": {
    "collapsed": true
   },
   "outputs": [],
   "source": [
    "import networkx as nx\n",
    "\n",
    "def nx_plot(graph):\n",
    "    print(graph.name, len(graph.edges()))\n",
    "    layout = nx.circular_layout(graph)\n",
    "    data = [[node, *layout[node]] for node in graph.nodes_iter()]\n",
    "\n",
    "    nodes_df = pd.DataFrame(data, columns=['id', 'x', 'y'])\n",
    "    nodes_df.set_index('id', inplace=True)\n",
    "    nodes = hv.Points(nodes_df)\n",
    "\n",
    "    edges = hv.Points(pd.DataFrame(graph.edges_iter(), columns=['source', 'target']))\n",
    "    direct = hv.Curve(directly_connect_edges(nodes.data, edges.data))\n",
    "\n",
    "    bundled_bw005 = hv.Curve(hammer_bundle(nodes.data, edges.data))\n",
    "    bundled_bw030 = hv.Curve(hammer_bundle(nodes.data, edges.data, initial_bandwidth=0.30))\n",
    "\n",
    "    return (datashade(direct, **sz)        * nodes).relabel(graph.name) + \\\n",
    "           (datashade(bundled_bw005, **sz) * nodes).relabel(\"Bundled bw=0.05\") + \\\n",
    "           (datashade(bundled_bw030, **sz) * nodes).relabel(\"Bundled bw=0.30\")"
   ]
  },
  {
   "cell_type": "code",
   "execution_count": null,
   "metadata": {},
   "outputs": [],
   "source": [
    "%%time\n",
    "%%opts RGB [width=200 height=200] {+framewise}\n",
    "n=100\n",
    "\n",
    "hv.Layout([nx_plot(g) for g in\n",
    "           [nx.complete_graph(n), nx.lollipop_graph(n, 5),     nx.barbell_graph(n,2),\n",
    "            nx.ladder_graph(n),   nx.circular_ladder_graph(n), nx.star_graph(n),\n",
    "            nx.cycle_graph(n)]]).cols(3)"
   ]
  },
  {
   "cell_type": "markdown",
   "metadata": {},
   "source": [
    "As you can see, both bundled and unbundled representations reflect important aspects of the graph structure, but the bundling results do depend on the parameters chosen.  Bundling is also very computationally expensive, with unbundled plots much less expensive to prepare."
   ]
  },
  {
   "cell_type": "markdown",
   "metadata": {},
   "source": [
    "# UK research collaboration example\n",
    "\n",
    "The above examples use artificial datasets, but each real-world dataset will have its own specific properties. Here, let's look at one example dataset of 600,000 collaborations between 15000 UK research institutions, previously laid out using a force-directed algorithm by [Ian Calvert](https://www.digital-science.com/people/ian-calvert):"
   ]
  },
  {
   "cell_type": "code",
   "execution_count": null,
   "metadata": {},
   "outputs": [],
   "source": [
    "r_nodes_file = 'data/calvert_uk_research2017_nodes.snappy.parq'\n",
    "r_edges_file = 'data/calvert_uk_research2017_edges.snappy.parq'\n",
    "\n",
    "r_nodes = hv.Points(fp.ParquetFile(r_nodes_file).to_pandas(index='id'), label=\"Nodes\")\n",
    "r_edges = hv.Curve( fp.ParquetFile(r_edges_file).to_pandas(index='id'), label=\"Edges\")\n",
    "len(r_nodes),len(r_edges)"
   ]
  },
  {
   "cell_type": "markdown",
   "metadata": {},
   "source": [
    "We can render each collaboration as a single-line direct connection, but the result is a dense tangle:"
   ]
  },
  {
   "cell_type": "code",
   "execution_count": null,
   "metadata": {},
   "outputs": [],
   "source": [
    "%%opts RGB [tools=[\"hover\"] width=400 height=400] \n",
    "\n",
    "%time r_direct = hv.Curve(directly_connect_edges(r_nodes.data, r_edges.data),label=\"Direct\")\n",
    "\n",
    "dynspread(datashade(r_nodes,cmap=[\"cyan\"])) + \\\n",
    "datashade(r_direct)"
   ]
  },
  {
   "cell_type": "markdown",
   "metadata": {},
   "source": [
    "Detailed substructure of this graph becomes visible after bundling, which takes several minutes even using multiple cores with Dask:"
   ]
  },
  {
   "cell_type": "code",
   "execution_count": null,
   "metadata": {},
   "outputs": [],
   "source": [
    "%time r_bundled = hv.Curve(hammer_bundle(r_nodes.data, r_edges.data),label=\"Bundled\")"
   ]
  },
  {
   "cell_type": "code",
   "execution_count": null,
   "metadata": {},
   "outputs": [],
   "source": [
    "%%opts RGB [tools=[\"hover\"] width=400 height=400] \n",
    "\n",
    "dynspread(datashade(r_nodes,cmap=[\"cyan\"])) + datashade(r_bundled)"
   ]
  },
  {
   "cell_type": "markdown",
   "metadata": {},
   "source": [
    "Zooming into these plots reveals interesting patterns, but immediately one then wants to ask what the various groupings of nodes might represent. With a small number of nodes or a small number of categories one could color-code the dots (using datashader's categorical color coding support), but here we just have thousands of indistinguishable dots. Instead, let's use hover information so the viewer can see the identity of each node.  \n",
    "\n",
    "To give something useful to hover, let's load the names of each institution in the researcher list and merge that with our existing layout data:"
   ]
  },
  {
   "cell_type": "code",
   "execution_count": null,
   "metadata": {},
   "outputs": [],
   "source": [
    "node_names = pd.read_csv(\"data/calvert_uk_research2017_nodes.csv\", index_col=\"node_id\", usecols=[\"node_id\",\"name\"])\n",
    "node_names = node_names.rename(columns={\"name\": \"Institution\"})\n",
    "node_names\n",
    "\n",
    "r_nodes_named = pd.merge(r_nodes.data, node_names, left_index=True, right_index=True)\n",
    "r_nodes_named.tail()"
   ]
  },
  {
   "cell_type": "markdown",
   "metadata": {},
   "source": [
    "We can now overlay a set of points on top of the datashaded edges, which will provide hover information for each node.  Here, the entire set of 15000 nodes would be reasonably feasible to plot, but to show how to work with larger datasets we wrap the `hv.Points()` call with `decimate` so that only a finite subset of the points will be shown at any one time. If a node of interest is not visible in a particular zoom, then you can simply zoom in on that region; at some point the number of visible points will be below the specified decimate limit and the required point should be revealed."
   ]
  },
  {
   "cell_type": "code",
   "execution_count": null,
   "metadata": {},
   "outputs": [],
   "source": [
    "%%opts Points (color=\"cyan\") [tools=[\"hover\"] width=900 height=650] \n",
    "datashade(r_bundled, width=900, height=650) * decimate(hv.Points(r_nodes_named),max_samples=2000)"
   ]
  },
  {
   "cell_type": "markdown",
   "metadata": {},
   "source": [
    "If you click around and hover, you should see interesting groups of nodes, and can then set up further interactive tools using [HoloViews' stream support](http://holoviews.org/Tutorials/Streams.html) to reveal aspects relevant to your research interests or questions.\n",
    "\n",
    "As you can see, datashader lets you work with very large graph datasets, though there are a number of decisions to make by trial and error, you do have to be careful when doing computationally expensive operations like edge bundling, and interactive information will only be available for a limited subset of the data at any one time."
   ]
  }
 ],
 "metadata": {
  "kernelspec": {
   "display_name": "Python 3",
   "language": "python",
   "name": "python3"
  },
  "language_info": {
   "codemirror_mode": {
    "name": "ipython",
    "version": 3
   },
   "file_extension": ".py",
   "mimetype": "text/x-python",
   "name": "python",
   "nbconvert_exporter": "python",
   "pygments_lexer": "ipython3",
   "version": "3.6.1"
  }
 },
 "nbformat": 4,
 "nbformat_minor": 2
}
